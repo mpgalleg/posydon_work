{
 "cells": [
  {
   "cell_type": "code",
   "execution_count": 1,
   "metadata": {},
   "outputs": [
    {
     "data": {
      "text/html": [
       "<style>.container { width:90% !important; }</style>"
      ],
      "text/plain": [
       "<IPython.core.display.HTML object>"
      ]
     },
     "metadata": {},
     "output_type": "display_data"
    }
   ],
   "source": [
    "from IPython.core.display import display, HTML\n",
    "display(HTML(\"<style>.container { width:90% !important; }</style>\"))"
   ]
  },
  {
   "cell_type": "code",
   "execution_count": 2,
   "metadata": {},
   "outputs": [
    {
     "name": "stdout",
     "output_type": "stream",
     "text": [
      "env: PATH_TO_POSYDON=/projects/b1119/mpg0328/tutorial/POSYDON\n"
     ]
    }
   ],
   "source": [
    "%env PATH_TO_POSYDON=/projects/b1119/mpg0328/tutorial/POSYDON\n",
    "\n",
    "from posydon.popsyn.binarypopulation import BinaryPopulation\n",
    "from posydon.binary_evol import SimulationProperties\n",
    "from posydon.binary_evol.flow_chart import flow_chart\n",
    "from posydon.binary_evol.MESA.step_mesa import CO_HeMS_step, MS_MS_step, CO_HMS_RLO_step\n",
    "from posydon.binary_evol.DT.step_detached import detached_step\n",
    "from posydon.binary_evol.CE.step_CEE import StepCEE\n",
    "from posydon.binary_evol.SN.step_SN import StepSN\n",
    "from posydon.binary_evol.DT.double_CO import DoubleCO\n",
    "from posydon.binary_evol.step_end import step_end\n",
    "from posydon.binary_evol.simulationproperties import TimingHooks, StepNamesHooks\n",
    "\n",
    "import sys\n",
    "import numpy as np"
   ]
  },
  {
   "cell_type": "code",
   "execution_count": 3,
   "metadata": {},
   "outputs": [
    {
     "name": "stderr",
     "output_type": "stream",
     "text": [
      "100%|██████████| 100/100 [00:32<00:00,  3.06it/s]\n"
     ]
    }
   ],
   "source": [
    "sheme = 'IF'\n",
    "\n",
    "if sheme == 'NN':\n",
    "    interpolation_method='nearest_neighbour'\n",
    "    save_initial_conditions=True\n",
    "    track_interpolation=False\n",
    "elif sheme == 'IF':\n",
    "    interpolation_method='linear3c_kNN'\n",
    "    save_initial_conditions=False\n",
    "    track_interpolation=False  \n",
    "\n",
    "sim_kwargs = dict(\n",
    "    flow = (flow_chart, {}),\n",
    "    step_HMS_HMS = (MS_MS_step, dict(interpolation_method=interpolation_method,\n",
    "                                     save_initial_conditions=save_initial_conditions,\n",
    "                                     track_interpolation=track_interpolation)),\n",
    "    step_CO_HeMS = (CO_HeMS_step, dict(interpolation_method=interpolation_method,\n",
    "                                     save_initial_conditions=save_initial_conditions,\n",
    "                                     track_interpolation=track_interpolation)),\n",
    "    step_CO_HMS_RLO = (CO_HMS_RLO_step, dict(interpolation_method=interpolation_method,\n",
    "                                     save_initial_conditions=save_initial_conditions,\n",
    "                                     track_interpolation=track_interpolation)),\n",
    "    step_detached = (detached_step, {}),\n",
    "    step_CE = (StepCEE, dict(core_definition_H_fraction= 0.1,\n",
    "                            )),\n",
    "    step_SN = (StepSN, {}), \n",
    "    step_dco = (DoubleCO, {}),\n",
    "    step_end = (step_end, {}),\n",
    "    extra_hooks = [(TimingHooks, {}),(StepNamesHooks, {})],\n",
    "    verbose=True\n",
    ")\n",
    "\n",
    "sim_prop = SimulationProperties(**sim_kwargs)\n",
    "\n",
    "kwargs = {'number_of_binaries' : 100,\n",
    "          'primary_mass_min' : 7,\n",
    "          'primary_mass_max' : 45,\n",
    "          'secondary_mass_scheme' : 'flat_mass_ratio',\n",
    "          'secondary_mass_min': 7,\n",
    "          'secondary_mass_max': 45,\n",
    "          'orbital_separation_min': 1,\n",
    "          'orbital_separation_max': 3e3,\n",
    "          'eccentricity_scheme':'zero',\n",
    "          'extra_columns' : ['step_times','step_names'], \n",
    "          'only_select_columns' : ['state', 'event', 'time', 'lg_mtransfer_rate',\n",
    "                                   'orbital_period'],\n",
    "          #'selection_function' : lambda binary: not(binary in pop.find_failed()),\n",
    "          'include_S1' : True , \n",
    "          'S1_kwargs' : {'only_select_columns' : ['state', 'mass', \n",
    "                                  'log_R', 'center_h1','center_he4',\n",
    "                                  'he_core_mass', 'surface_he4', 'surface_h1',\n",
    "                                  'lg_mdot'],\n",
    "                        'scalar_names' : ['natal_kick_array', 'SN_type']},\n",
    "          'include_S2' : True,\n",
    "          'S2_kwargs' : {'only_select_columns' : ['state', 'mass', \n",
    "                                  'log_R', 'center_h1','center_he4',\n",
    "                                  'he_core_mass', 'surface_he4', 'surface_h1',\n",
    "                                  'lg_mdot'],\n",
    "                        'scalar_names' : ['natal_kick_array', 'SN_type']},\n",
    "          'star_formation' : 'burst',\n",
    "          'max_simulation_time' : 13.7e9,\n",
    "         }\n",
    "\n",
    "pop = BinaryPopulation(\n",
    "    population_properties=sim_prop,\n",
    "#     file_name = 'DBH_CE2_dco.h5',\n",
    "    **kwargs\n",
    ")\n",
    "\n",
    "pop.evolve(breakdown_to_df=False, from_hdf=False, tqdm=True, **kwargs)\n",
    "\n"
   ]
  },
  {
   "cell_type": "code",
   "execution_count": 4,
   "metadata": {
    "scrolled": false
   },
   "outputs": [
    {
     "data": {
      "text/html": [
       "<div>\n",
       "<style scoped>\n",
       "    .dataframe tbody tr th:only-of-type {\n",
       "        vertical-align: middle;\n",
       "    }\n",
       "\n",
       "    .dataframe tbody tr th {\n",
       "        vertical-align: top;\n",
       "    }\n",
       "\n",
       "    .dataframe thead th {\n",
       "        text-align: right;\n",
       "    }\n",
       "</style>\n",
       "<table border=\"1\" class=\"dataframe\">\n",
       "  <thead>\n",
       "    <tr style=\"text-align: right;\">\n",
       "      <th></th>\n",
       "      <th>time</th>\n",
       "      <th>S1_mass</th>\n",
       "      <th>S2_mass</th>\n",
       "      <th>orbital_period</th>\n",
       "      <th>S1_log_R</th>\n",
       "      <th>S2_log_R</th>\n",
       "      <th>S1_lg_mdot</th>\n",
       "      <th>S2_lg_mdot</th>\n",
       "      <th>step_names</th>\n",
       "      <th>event</th>\n",
       "      <th>S1_state</th>\n",
       "      <th>S2_state</th>\n",
       "      <th>S1_surface_he4</th>\n",
       "    </tr>\n",
       "    <tr>\n",
       "      <th>binary_index</th>\n",
       "      <th></th>\n",
       "      <th></th>\n",
       "      <th></th>\n",
       "      <th></th>\n",
       "      <th></th>\n",
       "      <th></th>\n",
       "      <th></th>\n",
       "      <th></th>\n",
       "      <th></th>\n",
       "      <th></th>\n",
       "      <th></th>\n",
       "      <th></th>\n",
       "      <th></th>\n",
       "    </tr>\n",
       "  </thead>\n",
       "  <tbody>\n",
       "    <tr>\n",
       "      <th>2</th>\n",
       "      <td>0</td>\n",
       "      <td>10.6078</td>\n",
       "      <td>7.14555</td>\n",
       "      <td>11.4324</td>\n",
       "      <td>NaN</td>\n",
       "      <td>NaN</td>\n",
       "      <td>NaN</td>\n",
       "      <td>NaN</td>\n",
       "      <td>initial_cond</td>\n",
       "      <td>ZAMS</td>\n",
       "      <td>H-rich_Core_H_burning</td>\n",
       "      <td>H-rich_Core_H_burning</td>\n",
       "      <td>NaN</td>\n",
       "    </tr>\n",
       "    <tr>\n",
       "      <th>2</th>\n",
       "      <td>2.56586e+07</td>\n",
       "      <td>3.35586</td>\n",
       "      <td>7.4039</td>\n",
       "      <td>14.7476</td>\n",
       "      <td>0.551295</td>\n",
       "      <td>0.59554</td>\n",
       "      <td>-5.7074</td>\n",
       "      <td>-8.55132</td>\n",
       "      <td>step_HMS_HMS</td>\n",
       "      <td>CC1</td>\n",
       "      <td>stripped_He_Central_C_depletion</td>\n",
       "      <td>H-rich_Core_H_burning</td>\n",
       "      <td>0.98615</td>\n",
       "    </tr>\n",
       "    <tr>\n",
       "      <th>2</th>\n",
       "      <td>2.56586e+07</td>\n",
       "      <td>1.15069</td>\n",
       "      <td>7.4039</td>\n",
       "      <td>NaN</td>\n",
       "      <td>NaN</td>\n",
       "      <td>0.59554</td>\n",
       "      <td>NaN</td>\n",
       "      <td>NaN</td>\n",
       "      <td>step_SN</td>\n",
       "      <td>NaN</td>\n",
       "      <td>NS</td>\n",
       "      <td>H-rich_Core_H_burning</td>\n",
       "      <td>NaN</td>\n",
       "    </tr>\n",
       "    <tr>\n",
       "      <th>2</th>\n",
       "      <td>2.56586e+07</td>\n",
       "      <td>1.15069</td>\n",
       "      <td>7.4039</td>\n",
       "      <td>NaN</td>\n",
       "      <td>NaN</td>\n",
       "      <td>0.59554</td>\n",
       "      <td>NaN</td>\n",
       "      <td>NaN</td>\n",
       "      <td>step_end</td>\n",
       "      <td>END</td>\n",
       "      <td>NS</td>\n",
       "      <td>H-rich_Core_H_burning</td>\n",
       "      <td>NaN</td>\n",
       "    </tr>\n",
       "  </tbody>\n",
       "</table>\n",
       "</div>"
      ],
      "text/plain": [
       "                     time  S1_mass  S2_mass orbital_period  S1_log_R S2_log_R  \\\n",
       "binary_index                                                                    \n",
       "2                       0  10.6078  7.14555        11.4324       NaN      NaN   \n",
       "2             2.56586e+07  3.35586   7.4039        14.7476  0.551295  0.59554   \n",
       "2             2.56586e+07  1.15069   7.4039            NaN       NaN  0.59554   \n",
       "2             2.56586e+07  1.15069   7.4039            NaN       NaN  0.59554   \n",
       "\n",
       "             S1_lg_mdot S2_lg_mdot    step_names event  \\\n",
       "binary_index                                             \n",
       "2                   NaN        NaN  initial_cond  ZAMS   \n",
       "2               -5.7074   -8.55132  step_HMS_HMS   CC1   \n",
       "2                   NaN        NaN       step_SN   NaN   \n",
       "2                   NaN        NaN      step_end   END   \n",
       "\n",
       "                                     S1_state               S2_state  \\\n",
       "binary_index                                                           \n",
       "2                       H-rich_Core_H_burning  H-rich_Core_H_burning   \n",
       "2             stripped_He_Central_C_depletion  H-rich_Core_H_burning   \n",
       "2                                          NS  H-rich_Core_H_burning   \n",
       "2                                          NS  H-rich_Core_H_burning   \n",
       "\n",
       "             S1_surface_he4  \n",
       "binary_index                 \n",
       "2                       NaN  \n",
       "2                   0.98615  \n",
       "2                       NaN  \n",
       "2                       NaN  "
      ]
     },
     "execution_count": 4,
     "metadata": {},
     "output_type": "execute_result"
    }
   ],
   "source": [
    "pop[2].to_df(**kwargs)[['time','S1_mass','S2_mass','orbital_period', 'S1_log_R', 'S2_log_R' ,'S1_lg_mdot','S2_lg_mdot','step_names','event',\n",
    "                       'S1_state', 'S2_state', 'S1_surface_he4']]"
   ]
  },
  {
   "cell_type": "code",
   "execution_count": 5,
   "metadata": {},
   "outputs": [
    {
     "data": {
      "text/plain": [
       "Index(['state', 'event', 'time', 'lg_mtransfer_rate', 'orbital_period',\n",
       "       'step_times', 'step_names', 'S1_state', 'S1_mass', 'S1_log_R',\n",
       "       'S1_center_h1', 'S1_center_he4', 'S1_he_core_mass', 'S1_surface_he4',\n",
       "       'S1_surface_h1', 'S1_lg_mdot', 'S2_state', 'S2_mass', 'S2_log_R',\n",
       "       'S2_center_h1', 'S2_center_he4', 'S2_he_core_mass', 'S2_surface_he4',\n",
       "       'S2_surface_h1', 'S2_lg_mdot'],\n",
       "      dtype='object')"
      ]
     },
     "execution_count": 5,
     "metadata": {},
     "output_type": "execute_result"
    }
   ],
   "source": [
    "pop[0].to_df(**kwargs).columns"
   ]
  },
  {
   "cell_type": "code",
   "execution_count": null,
   "metadata": {},
   "outputs": [],
   "source": []
  },
  {
   "cell_type": "code",
   "execution_count": null,
   "metadata": {},
   "outputs": [],
   "source": []
  },
  {
   "cell_type": "code",
   "execution_count": null,
   "metadata": {},
   "outputs": [],
   "source": []
  },
  {
   "cell_type": "code",
   "execution_count": null,
   "metadata": {},
   "outputs": [],
   "source": []
  },
  {
   "cell_type": "code",
   "execution_count": null,
   "metadata": {},
   "outputs": [],
   "source": []
  },
  {
   "cell_type": "code",
   "execution_count": 8,
   "metadata": {},
   "outputs": [
    {
     "name": "stdout",
     "output_type": "stream",
     "text": [
      "env: PATH_TO_POSYDON=/projects/b1119/mpg0328/tutorial/POSYDON\n"
     ]
    }
   ],
   "source": [
    "%env PATH_TO_POSYDON=/projects/b1119/mpg0328/tutorial/POSYDON\n",
    "\n"
   ]
  },
  {
   "cell_type": "code",
   "execution_count": 9,
   "metadata": {},
   "outputs": [],
   "source": [
    "import os\n",
    "PATH_TO_POSYDON = os.environ.get(\"PATH_TO_POSYDON\")"
   ]
  },
  {
   "cell_type": "code",
   "execution_count": 10,
   "metadata": {},
   "outputs": [
    {
     "name": "stdout",
     "output_type": "stream",
     "text": [
      "/projects/b1119/mpg0328/tutorial/POSYDON\n"
     ]
    }
   ],
   "source": [
    "print(PATH_TO_POSYDON)"
   ]
  },
  {
   "cell_type": "code",
   "execution_count": 7,
   "metadata": {},
   "outputs": [
    {
     "data": {
      "text/plain": [
       "environ{'PATH': '/bin:/usr/local/sbin:/usr/local/bin:/usr/sbin:/usr/bin:/software/anaconda3.6/bin:/software/qanalytics/jupyterhub/env/bin',\n",
       "        'LANG': 'en_US.UTF-8',\n",
       "        'JUPYTERHUB_API_TOKEN': '388ada75755f436e9101fd1b813df54b',\n",
       "        'JPY_API_TOKEN': '388ada75755f436e9101fd1b813df54b',\n",
       "        'JUPYTERHUB_CLIENT_ID': 'jupyterhub-user-mpg0328',\n",
       "        'JUPYTERHUB_HOST': '',\n",
       "        'JUPYTERHUB_OAUTH_CALLBACK_URL': '/user/mpg0328/oauth_callback',\n",
       "        'JUPYTERHUB_USER': 'mpg0328',\n",
       "        'JUPYTERHUB_API_URL': 'http://127.0.0.1:8081/hub/api',\n",
       "        'JUPYTERHUB_BASE_URL': '/',\n",
       "        'JUPYTERHUB_SERVICE_PREFIX': '/user/mpg0328/',\n",
       "        'USER': 'mpg0328',\n",
       "        'HOME': '/home/mpg0328',\n",
       "        'SHELL': '/bin/bash',\n",
       "        'JPY_PARENT_PID': '371894',\n",
       "        'TERM': 'xterm-color',\n",
       "        'CLICOLOR': '1',\n",
       "        'PAGER': 'cat',\n",
       "        'GIT_PAGER': 'cat',\n",
       "        'MPLBACKEND': 'module://ipykernel.pylab.backend_inline'}"
      ]
     },
     "execution_count": 7,
     "metadata": {},
     "output_type": "execute_result"
    }
   ],
   "source": [
    "os.environ"
   ]
  },
  {
   "cell_type": "code",
   "execution_count": null,
   "metadata": {},
   "outputs": [],
   "source": []
  },
  {
   "cell_type": "code",
   "execution_count": null,
   "metadata": {},
   "outputs": [],
   "source": []
  },
  {
   "cell_type": "code",
   "execution_count": 4,
   "metadata": {},
   "outputs": [],
   "source": [
    "from posydon.binary_evol.singlestar import SingleStar\n",
    "from posydon.binary_evol.binarystar import BinaryStar"
   ]
  },
  {
   "cell_type": "code",
   "execution_count": 5,
   "metadata": {},
   "outputs": [],
   "source": [
    "kwargs1 = dict(state='H-rich_Core_H_burning',\n",
    "           mass=20.0,\n",
    "           metallicity=0.014)\n",
    "star_1 = SingleStar(**kwargs1)\n",
    "\n",
    "\n",
    "kwargs2 = dict(state='H-rich_Core_H_burning',\n",
    "           mass=10.0,\n",
    "           metallicity=0.014)\n",
    "star_2 = SingleStar(**kwargs2)\n",
    "\n",
    "\n",
    "kwargs3 = {'state' : 'detached',\n",
    "           'event' : 'ZAMS',\n",
    "           'time' : 0.,\n",
    "           'orbital_period' : 100.,\n",
    "           'eccentricity' : 0.}\n",
    "binary = BinaryStar(star_1, star_2, properties=sim_prop, **kwargs3)"
   ]
  },
  {
   "cell_type": "code",
   "execution_count": 6,
   "metadata": {},
   "outputs": [],
   "source": [
    "binary.evolve()"
   ]
  },
  {
   "cell_type": "code",
   "execution_count": 9,
   "metadata": {},
   "outputs": [
    {
     "data": {
      "text/plain": [
       "['detached', 'detached', 'disrupted', 'disrupted']"
      ]
     },
     "execution_count": 9,
     "metadata": {},
     "output_type": "execute_result"
    }
   ],
   "source": [
    "binary.event_history\n",
    "binary.state_history"
   ]
  },
  {
   "cell_type": "code",
   "execution_count": 10,
   "metadata": {},
   "outputs": [
    {
     "data": {
      "text/plain": [
       "['H-rich_Core_H_burning', 'stripped_He_Central_C_depletion', 'NS', 'NS']"
      ]
     },
     "execution_count": 10,
     "metadata": {},
     "output_type": "execute_result"
    }
   ],
   "source": [
    "binary.star_1.state_history"
   ]
  },
  {
   "cell_type": "code",
   "execution_count": 11,
   "metadata": {},
   "outputs": [],
   "source": [
    "df_test = binary.to_df()"
   ]
  },
  {
   "cell_type": "code",
   "execution_count": 19,
   "metadata": {},
   "outputs": [
    {
     "name": "stdout",
     "output_type": "stream",
     "text": [
      "['state', 'event', 'time', 'separation', 'orbital_period', 'eccentricity', 'V_sys', 'rl_relative_overflow_1', 'rl_relative_overflow_2', 'lg_mtransfer_rate', 'mass_transfer_case', 'trap_radius', 'acc_radius', 't_sync_rad_1', 't_sync_conv_1', 't_sync_rad_2', 't_sync_conv_2', 'nearest_neighbour_distance', 'p_classification', 'S1_state', 'S1_metallicity', 'S1_mass', 'S1_log_R', 'S1_log_L', 'S1_lg_mdot', 'S1_lg_system_mdot', 'S1_lg_wind_mdot', 'S1_he_core_mass', 'S1_he_core_radius', 'S1_c_core_mass', 'S1_c_core_radius', 'S1_o_core_mass', 'S1_o_core_radius', 'S1_co_core_mass', 'S1_co_core_radius', 'S1_center_h1', 'S1_center_he4', 'S1_center_c12', 'S1_center_n14', 'S1_center_o16', 'S1_surface_h1', 'S1_surface_he4', 'S1_surface_c12', 'S1_surface_n14', 'S1_surface_o16', 'S1_log_LH', 'S1_log_LHe', 'S1_log_LZ', 'S1_log_Lnuc', 'S1_c12_c12', 'S1_center_gamma', 'S1_avg_c_in_c_core', 'S1_surf_avg_omega', 'S1_surf_avg_omega_div_omega_crit', 'S1_total_moment_of_inertia', 'S1_log_total_angular_momentum', 'S1_spin', 'S1_conv_env_top_mass', 'S1_conv_env_bot_mass', 'S1_conv_env_top_radius', 'S1_conv_env_bot_radius', 'S1_conv_env_turnover_time_g', 'S1_conv_env_turnover_time_l_b', 'S1_conv_env_turnover_time_l_t', 'S1_envelope_binding_energy', 'S1_mass_conv_reg_fortides', 'S1_thickness_conv_reg_fortides', 'S1_radius_conv_reg_fortides', 'S1_lambda_CE_1cent', 'S1_lambda_CE_10cent', 'S1_lambda_CE_30cent', 'S1_lambda_CE_pure_He_star_10cent', 'S1_profile', 'S2_state', 'S2_metallicity', 'S2_mass', 'S2_log_R', 'S2_log_L', 'S2_lg_mdot', 'S2_lg_system_mdot', 'S2_lg_wind_mdot', 'S2_he_core_mass', 'S2_he_core_radius', 'S2_c_core_mass', 'S2_c_core_radius', 'S2_o_core_mass', 'S2_o_core_radius', 'S2_co_core_mass', 'S2_co_core_radius', 'S2_center_h1', 'S2_center_he4', 'S2_center_c12', 'S2_center_n14', 'S2_center_o16', 'S2_surface_h1', 'S2_surface_he4', 'S2_surface_c12', 'S2_surface_n14', 'S2_surface_o16', 'S2_log_LH', 'S2_log_LHe', 'S2_log_LZ', 'S2_log_Lnuc', 'S2_c12_c12', 'S2_center_gamma', 'S2_avg_c_in_c_core', 'S2_surf_avg_omega', 'S2_surf_avg_omega_div_omega_crit', 'S2_total_moment_of_inertia', 'S2_log_total_angular_momentum', 'S2_spin', 'S2_conv_env_top_mass', 'S2_conv_env_bot_mass', 'S2_conv_env_top_radius', 'S2_conv_env_bot_radius', 'S2_conv_env_turnover_time_g', 'S2_conv_env_turnover_time_l_b', 'S2_conv_env_turnover_time_l_t', 'S2_envelope_binding_energy', 'S2_mass_conv_reg_fortides', 'S2_thickness_conv_reg_fortides', 'S2_radius_conv_reg_fortides', 'S2_lambda_CE_1cent', 'S2_lambda_CE_10cent', 'S2_lambda_CE_30cent', 'S2_lambda_CE_pure_He_star_10cent', 'S2_profile']\n"
     ]
    }
   ],
   "source": [
    "print(df_test.columns.tolist())"
   ]
  },
  {
   "cell_type": "code",
   "execution_count": 20,
   "metadata": {},
   "outputs": [
    {
     "data": {
      "text/plain": [
       "binary_index\n",
       "NaN              H-rich_Core_H_burning\n",
       "NaN    stripped_He_Central_C_depletion\n",
       "NaN                                 NS\n",
       "NaN                                 NS\n",
       "Name: S1_state, dtype: object"
      ]
     },
     "execution_count": 20,
     "metadata": {},
     "output_type": "execute_result"
    }
   ],
   "source": [
    "df_test['S1_state']"
   ]
  },
  {
   "cell_type": "code",
   "execution_count": null,
   "metadata": {},
   "outputs": [],
   "source": []
  }
 ],
 "metadata": {
  "kernelspec": {
   "display_name": "posydon",
   "language": "python",
   "name": "posydon"
  },
  "language_info": {
   "codemirror_mode": {
    "name": "ipython",
    "version": 3
   },
   "file_extension": ".py",
   "mimetype": "text/x-python",
   "name": "python",
   "nbconvert_exporter": "python",
   "pygments_lexer": "ipython3",
   "version": "3.7.0"
  }
 },
 "nbformat": 4,
 "nbformat_minor": 5
}
